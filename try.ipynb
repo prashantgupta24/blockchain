{
 "cells": [
  {
   "cell_type": "code",
   "execution_count": 1,
   "metadata": {},
   "outputs": [],
   "source": [
    "import rsa\n",
    "from core import Blockchain, Transaction, Block"
   ]
  },
  {
   "cell_type": "code",
   "execution_count": 2,
   "metadata": {},
   "outputs": [],
   "source": [
    "[pub_arya, priv_arya]=rsa.newkeys(512)\n",
    "[pub_bran, priv_bran]=rsa.newkeys(512)\n",
    "[pub_cersei, priv_cersei]=rsa.newkeys(512)\n",
    "[pub_davos, priv_davos]=rsa.newkeys(512)\n",
    "[pub_elia, priv_elia]=rsa.newkeys(512)\n",
    "\n",
    "nameMap = {\"arya\":pub_arya, \"bran\":pub_bran, \"cersei\":pub_cersei, \"davos\":pub_davos, \"elia\":pub_elia}"
   ]
  },
  {
   "cell_type": "code",
   "execution_count": 3,
   "metadata": {},
   "outputs": [
    {
     "name": "stdout",
     "output_type": "stream",
     "text": [
      "hexdigest is dfd3c9b1418c19e44d84bc01cc0c0d61203b48a54e4a7f08f0054463cda6f6ad\n"
     ]
    }
   ],
   "source": [
    "myBlockchain = Blockchain()"
   ]
  },
  {
   "cell_type": "code",
   "execution_count": null,
   "metadata": {},
   "outputs": [],
   "source": [
    "myBlockchain.mineBlock(\"9576807642881441086254282488765809802083570013226262763404999483407654844252379777521217015135551815412113377828748011551310107843549235729821817086202443, 65537\")"
   ]
  },
  {
   "cell_type": "code",
   "execution_count": null,
   "metadata": {},
   "outputs": [],
   "source": [
    "transaction = Transaction(fromAddress=pub_arya, toAddress=pub_bran, amount=10)\n",
    "signature = rsa.sign(str(transaction).encode(encoding='utf_8'), priv_arya, \"SHA-256\")\n",
    "transaction.addSignature(signature=signature)\n",
    "myBlockchain.addTransaction(transaction=transaction)"
   ]
  },
  {
   "cell_type": "code",
   "execution_count": null,
   "metadata": {},
   "outputs": [],
   "source": [
    "myBlockchain.mineBlock(pub_bran)"
   ]
  },
  {
   "cell_type": "code",
   "execution_count": null,
   "metadata": {},
   "outputs": [],
   "source": [
    "myBlockchain.mineBlock(pub_cersei)"
   ]
  },
  {
   "cell_type": "code",
   "execution_count": null,
   "metadata": {},
   "outputs": [],
   "source": [
    "transaction = Transaction(fromAddress=pub_cersei, toAddress=pub_arya, amount=40)\n",
    "signature = rsa.sign(str(transaction).encode(encoding='utf_8'), priv_cersei, \"SHA-256\")\n",
    "transaction.addSignature(signature=signature)\n",
    "myBlockchain.addTransaction(transaction=transaction)"
   ]
  },
  {
   "cell_type": "code",
   "execution_count": null,
   "metadata": {},
   "outputs": [],
   "source": [
    "transaction = Transaction(fromAddress=pub_bran, toAddress=pub_elia, amount=25)\n",
    "signature = rsa.sign(str(transaction).encode(encoding='utf_8'), priv_bran, \"SHA-256\")\n",
    "transaction.addSignature(signature=signature)\n",
    "myBlockchain.addTransaction(transaction=transaction)"
   ]
  },
  {
   "cell_type": "code",
   "execution_count": null,
   "metadata": {},
   "outputs": [],
   "source": [
    "myBlockchain.mineBlock(pub_davos)"
   ]
  },
  {
   "cell_type": "code",
   "execution_count": null,
   "metadata": {},
   "outputs": [],
   "source": [
    "myBlockchain.mineBlock(pub_elia)"
   ]
  },
  {
   "cell_type": "code",
   "execution_count": 4,
   "metadata": {},
   "outputs": [
    {
     "name": "stdout",
     "output_type": "stream",
     "text": [
      "{\n",
      "  \"LengthOfChain\": 1,\n",
      "  \"Nodes\": [],\n",
      "  \"Blocks\": {\n",
      "    \"Block 0\": {\n",
      "      \"Transactions\": [],\n",
      "      \"PreviousHash\": 0,\n",
      "      \"MyHash\": \"000008e692dc8d22eee877ca66cc0c9e3f03ad6eaca8b90dd28eba8dcc961533\",\n",
      "      \"Nonce\": 5825589\n",
      "    }\n",
      "  },\n",
      "  \"PendingTransactions\": []\n",
      "}\n"
     ]
    }
   ],
   "source": [
    "print(myBlockchain)"
   ]
  },
  {
   "cell_type": "code",
   "execution_count": null,
   "metadata": {},
   "outputs": [],
   "source": [
    "for name in nameMap:\n",
    "    print(f\"\\nBalance for name {name} : {nameMap.get(name)} is {myBlockchain.getBalance(user=nameMap.get(name))}\")\n"
   ]
  },
  {
   "cell_type": "markdown",
   "metadata": {},
   "source": [
    "# Chain info"
   ]
  },
  {
   "cell_type": "code",
   "execution_count": 14,
   "metadata": {
    "scrolled": true
   },
   "outputs": [
    {
     "name": "stdout",
     "output_type": "stream",
     "text": [
      "block's hashval is 000008e692dc8d22eee877ca66cc0c9e3f03ad6eaca8b90dd28eba8dcc961533\n",
      "block's nonce is 5825589\n",
      "hexdigest is 000008e692dc8d22eee877ca66cc0c9e3f03ad6eaca8b90dd28eba8dcc961533\n"
     ]
    },
    {
     "data": {
      "text/plain": [
       "(True, -1)"
      ]
     },
     "execution_count": 14,
     "metadata": {},
     "output_type": "execute_result"
    }
   ],
   "source": [
    "myBlockchain.isChainValid()"
   ]
  },
  {
   "cell_type": "code",
   "execution_count": null,
   "metadata": {},
   "outputs": [],
   "source": [
    "print(myBlockchain.pendingTransactions)"
   ]
  },
  {
   "cell_type": "code",
   "execution_count": null,
   "metadata": {},
   "outputs": [],
   "source": [
    "print(myBlockchain.getBalance(user=nameMap.get(\"davos\")))"
   ]
  },
  {
   "cell_type": "markdown",
   "metadata": {},
   "source": [
    "# Nefarious"
   ]
  },
  {
   "cell_type": "code",
   "execution_count": null,
   "metadata": {},
   "outputs": [],
   "source": [
    "transaction.amount=10"
   ]
  },
  {
   "cell_type": "code",
   "execution_count": null,
   "metadata": {},
   "outputs": [],
   "source": [
    "myBlockchain.addTransaction(transaction=transaction)"
   ]
  },
  {
   "cell_type": "code",
   "execution_count": null,
   "metadata": {},
   "outputs": [],
   "source": [
    "transactions1 = list(myBlockchain.chain[1].transactions)\n",
    "transaction = transactions1[0]\n",
    "transactions2 = list(myBlockchain.chain[2].transactions)\n",
    "transactions2.append(transaction)\n",
    "myBlockchain.chain[2].transactions = transactions2\n",
    "myBlockchain.chain[2].hashVal = myBlockchain.chain[2].calculateHash()\n",
    "print(list(myBlockchain.chain[2].transactions))"
   ]
  },
  {
   "cell_type": "code",
   "execution_count": null,
   "metadata": {},
   "outputs": [],
   "source": [
    "print(myBlockchain.chain[2])"
   ]
  },
  {
   "cell_type": "code",
   "execution_count": null,
   "metadata": {},
   "outputs": [],
   "source": [
    "tCopy = Transaction(nameMap.get(\"arya\"), nameMap.get(\"davos\"), 150)\n",
    "#myBlockchain.addTransaction(transaction=tCopy) #this won't work as we have not signed it with private key\n",
    "myBlockchain.pendingTransactions.append(tCopy)"
   ]
  },
  {
   "cell_type": "markdown",
   "metadata": {},
   "source": [
    "# Block nonce testing"
   ]
  },
  {
   "cell_type": "code",
   "execution_count": null,
   "metadata": {},
   "outputs": [],
   "source": [
    "from core import Block, Transaction\n",
    "import json"
   ]
  },
  {
   "cell_type": "code",
   "execution_count": null,
   "metadata": {},
   "outputs": [],
   "source": [
    "t1 = Transaction(\"a\",\"b\",100)\n",
    "t2 = Transaction(\"b\",\"c\",200)\n",
    "tr = [t1,t2]\n",
    "b = Block(tr, \"12938719hkdsf\", 2)\n",
    "print(b.getData())"
   ]
  },
  {
   "cell_type": "code",
   "execution_count": null,
   "metadata": {},
   "outputs": [],
   "source": [
    "# s = {'transactions': [{'timestamp': '1526841250.949912', 'from_address': 'a', 'to_address': 'b', 'amount': '100'}, {'timestamp': '1526841250.949941', 'from_address': 'b', 'to_address': 'c', 'amount': '200'}], 'previous hash': '12938719hkdsf'}\n",
    "# print(type(s))\n",
    "print(b.getData())\n",
    "j = json.dumps(b.getData())\n",
    "print(type(j))\n",
    "print(j)"
   ]
  },
  {
   "cell_type": "markdown",
   "metadata": {},
   "source": [
    "# RSA key testing"
   ]
  },
  {
   "cell_type": "code",
   "execution_count": null,
   "metadata": {},
   "outputs": [],
   "source": [
    "import rsa\n",
    "from core import Blockchain, Transaction, Block"
   ]
  },
  {
   "cell_type": "code",
   "execution_count": null,
   "metadata": {},
   "outputs": [],
   "source": [
    "[pub_key, priv_key]=rsa.newkeys(512)"
   ]
  },
  {
   "cell_type": "code",
   "execution_count": null,
   "metadata": {},
   "outputs": [],
   "source": [
    "print(pub_key)\n",
    "print(priv_key)"
   ]
  },
  {
   "cell_type": "code",
   "execution_count": null,
   "metadata": {},
   "outputs": [],
   "source": [
    "pubFull = str(pub_key)\n",
    "privFull = str(priv_key)\n",
    "pbk = pubFull[pubFull.index(\"(\")+1:pubFull.index(\")\")]\n",
    "print(pbk)\n",
    "pvk = privFull[privFull.index(\"(\")+1:privFull.index(\")\")]\n",
    "print(pvk)"
   ]
  },
  {
   "cell_type": "code",
   "execution_count": null,
   "metadata": {},
   "outputs": [],
   "source": [
    "print(pub_key.n)\n",
    "print(pub_key.e)"
   ]
  },
  {
   "cell_type": "code",
   "execution_count": null,
   "metadata": {},
   "outputs": [],
   "source": [
    "print(priv_key.n)\n",
    "print(priv_key.e)\n",
    "print(priv_key.d)\n",
    "print(priv_key.p)\n",
    "print(priv_key.q)"
   ]
  },
  {
   "cell_type": "code",
   "execution_count": null,
   "metadata": {},
   "outputs": [],
   "source": [
    "myBlockchain = Blockchain()\n",
    "myBlockchain.mineBlock(\"9158990337550797607105722353943763285262931614697490235817407560986724979042196280173019747861434544976106125615081404434473297124508564803373756622762891, 65537\")"
   ]
  },
  {
   "cell_type": "code",
   "execution_count": null,
   "metadata": {},
   "outputs": [],
   "source": [
    "print(myBlockchain.getBalance(user=\"9158990337550797607105722353943763285262931614697490235817407560986724979042196280173019747861434544976106125615081404434473297124508564803373756622762891, 65537\"))"
   ]
  },
  {
   "cell_type": "code",
   "execution_count": null,
   "metadata": {},
   "outputs": [],
   "source": [
    "print(pub_key)\n",
    "print(myBlockchain.getBalance(user=pub_key))"
   ]
  },
  {
   "cell_type": "code",
   "execution_count": null,
   "metadata": {},
   "outputs": [],
   "source": [
    "transaction = Transaction(fromAddress=\"PublicKey(11313818254180076003910143580899545615642975421518495646315508835016711750994699040560556254142645289743156840883641027743054903329749159381832523883993661, 65537)\", toAddress=\"test\", amount=10)\n",
    "signature = rsa.sign(str(transaction).encode(encoding='utf_8'), priv_key, \"SHA-256\")\n",
    "transaction.addSignature(signature=signature)\n",
    "myBlockchain.addTransaction(transaction=transaction)"
   ]
  }
 ],
 "metadata": {
  "kernelspec": {
   "display_name": "Python 3",
   "language": "python",
   "name": "python3"
  },
  "language_info": {
   "codemirror_mode": {
    "name": "ipython",
    "version": 3
   },
   "file_extension": ".py",
   "mimetype": "text/x-python",
   "name": "python",
   "nbconvert_exporter": "python",
   "pygments_lexer": "ipython3",
   "version": "3.6.4"
  }
 },
 "nbformat": 4,
 "nbformat_minor": 2
}

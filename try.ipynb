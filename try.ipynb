{
 "cells": [
  {
   "cell_type": "code",
   "execution_count": 1,
   "metadata": {},
   "outputs": [],
   "source": [
    "import rsa\n",
    "from core import Blockchain, Transaction"
   ]
  },
  {
   "cell_type": "code",
   "execution_count": 2,
   "metadata": {},
   "outputs": [],
   "source": [
    "[pub_arya, priv_arya]=rsa.newkeys(512)\n",
    "[pub_bran, priv_bran]=rsa.newkeys(512)\n",
    "[pub_cersei, priv_cersei]=rsa.newkeys(512)\n",
    "[pub_davos, priv_davos]=rsa.newkeys(512)\n",
    "[pub_elia, priv_elia]=rsa.newkeys(512)\n",
    "\n",
    "nameMap = {\"arya\":pub_arya, \"bran\":pub_bran, \"cersei\":pub_cersei, \"davos\":pub_davos, \"elia\":pub_elia}"
   ]
  },
  {
   "cell_type": "code",
   "execution_count": 3,
   "metadata": {},
   "outputs": [],
   "source": [
    "myBlockchain = Blockchain()"
   ]
  },
  {
   "cell_type": "code",
   "execution_count": 4,
   "metadata": {},
   "outputs": [],
   "source": [
    "myBlockchain.mineBlock(pub_arya)"
   ]
  },
  {
   "cell_type": "code",
   "execution_count": 18,
   "metadata": {},
   "outputs": [],
   "source": [
    "\n",
    "transaction = Transaction(fromAddress=pub_arya, toAddress=pub_bran, amount=10)\n",
    "signature = rsa.sign(str(transaction).encode(encoding='utf_8'), priv_arya, \"SHA-256\")\n",
    "transaction.addSignature(signature=signature)\n",
    "myBlockchain.addTransaction(transaction=transaction)"
   ]
  },
  {
   "cell_type": "code",
   "execution_count": 31,
   "metadata": {},
   "outputs": [],
   "source": [
    "transaction.amount=10"
   ]
  },
  {
   "cell_type": "code",
   "execution_count": 8,
   "metadata": {},
   "outputs": [],
   "source": [
    "myBlockchain.addTransaction(transaction=transaction)"
   ]
  },
  {
   "cell_type": "code",
   "execution_count": 6,
   "metadata": {},
   "outputs": [],
   "source": [
    "myBlockchain.mineBlock(pub_bran)"
   ]
  },
  {
   "cell_type": "code",
   "execution_count": 51,
   "metadata": {},
   "outputs": [
    {
     "name": "stdout",
     "output_type": "stream",
     "text": [
      "[{'timestamp': 1526709400.41716, 'from_address': 'SYSTEM', 'to_address': 'PublicKey(8915275741360978175563834853264592569576103100862571780939170156374380021037993505329541558596464795317953586714426300638337773151554277899515519484578721, 65537)', 'amount': 50}, {'timestamp': 1526709398.170304, 'from_address': 'PublicKey(12534602798776040486242871727336260425807329769272684498052476009272876793808873103598578630943159308542769457662801614599892907441427999974901114184127297, 65537)', 'to_address': 'PublicKey(8915275741360978175563834853264592569576103100862571780939170156374380021037993505329541558596464795317953586714426300638337773151554277899515519484578721, 65537)', 'amount': 10}, {'timestamp': 1526709395.617329, 'from_address': 'SYSTEM', 'to_address': 'PublicKey(12534602798776040486242871727336260425807329769272684498052476009272876793808873103598578630943159308542769457662801614599892907441427999974901114184127297, 65537)', 'amount': 50}]\n"
     ]
    }
   ],
   "source": [
    "transactions1 = list(myBlockchain.chain[1].transactions)\n",
    "transaction = transactions1[0]\n",
    "transactions2 = list(myBlockchain.chain[2].transactions)\n",
    "transactions2.append(transaction)\n",
    "myBlockchain.chain[2].transactions = transactions2\n",
    "myBlockchain.chain[2].hashVal = myBlockchain.chain[2].calculateHash()\n",
    "print(list(myBlockchain.chain[2].transactions))"
   ]
  },
  {
   "cell_type": "code",
   "execution_count": 52,
   "metadata": {},
   "outputs": [
    {
     "name": "stdout",
     "output_type": "stream",
     "text": [
      "Transactions are [{'timestamp': 1526709400.41716, 'from_address': 'SYSTEM', 'to_address': 'PublicKey(8915275741360978175563834853264592569576103100862571780939170156374380021037993505329541558596464795317953586714426300638337773151554277899515519484578721, 65537)', 'amount': 50}, {'timestamp': 1526709398.170304, 'from_address': 'PublicKey(12534602798776040486242871727336260425807329769272684498052476009272876793808873103598578630943159308542769457662801614599892907441427999974901114184127297, 65537)', 'to_address': 'PublicKey(8915275741360978175563834853264592569576103100862571780939170156374380021037993505329541558596464795317953586714426300638337773151554277899515519484578721, 65537)', 'amount': 10}, {'timestamp': 1526709395.617329, 'from_address': 'SYSTEM', 'to_address': 'PublicKey(12534602798776040486242871727336260425807329769272684498052476009272876793808873103598578630943159308542769457662801614599892907441427999974901114184127297, 65537)', 'amount': 50}] \n",
      "\n",
      "Previous hash is d4be135ea095b21ccf91b82244a3b5ebef81fd45f965a6bfea32a5b544452751 \n",
      "My hash is cbbc884c7d576f31685fbc10571c8b77c69c9013e040d7458afd2ad110496e15\n"
     ]
    }
   ],
   "source": [
    "print(myBlockchain.chain[2])"
   ]
  },
  {
   "cell_type": "code",
   "execution_count": 23,
   "metadata": {},
   "outputs": [
    {
     "name": "stdout",
     "output_type": "stream",
     "text": [
      "\n",
      "Block 0\n",
      "\n",
      "Transactions are [] \n",
      "\n",
      "Previous hash is 0 \n",
      "My hash is d0bca111f8628137adc4c16f123496dcdd1d590d06cb5d9acd68b39fe656fb97\n",
      "\n",
      "\n",
      "Block 1\n",
      "\n",
      "Transactions are [{'timestamp': 1526715365.831702, 'from_address': 'SYSTEM', 'to_address': 'PublicKey(6779088420865347337025190093169929350334745195828916387479150784297084062241541533011892062593337345802672309933626561774991534697040447454342497198979759, 65537)', 'amount': 50}] \n",
      "\n",
      "Previous hash is d0bca111f8628137adc4c16f123496dcdd1d590d06cb5d9acd68b39fe656fb97 \n",
      "My hash is 408a0cb34295b2bdf32e4bd23a0497f7186c5f8ffc7947b5d1a5b55d016ed91f\n",
      "\n",
      "\n",
      "Block 2\n",
      "\n",
      "Transactions are [{'timestamp': 1526715369.1128588, 'from_address': 'SYSTEM', 'to_address': 'PublicKey(9397608228207686851416119375836144832187333820809147174314620827054039818894963967512700055176661523783407929400420568768228793617944314418964042881181231, 65537)', 'amount': 50}, {'timestamp': 1526715366.626127, 'from_address': 'PublicKey(6779088420865347337025190093169929350334745195828916387479150784297084062241541533011892062593337345802672309933626561774991534697040447454342497198979759, 65537)', 'to_address': 'PublicKey(9397608228207686851416119375836144832187333820809147174314620827054039818894963967512700055176661523783407929400420568768228793617944314418964042881181231, 65537)', 'amount': 10}] \n",
      "\n",
      "Previous hash is 408a0cb34295b2bdf32e4bd23a0497f7186c5f8ffc7947b5d1a5b55d016ed91f \n",
      "My hash is a55643d1268000396bb5226a072d34400eb88bb909d92b6f543a4a4774baa1ef\n",
      "\n",
      "\n",
      "Block 3\n",
      "\n",
      "Transactions are [{'timestamp': 1526715555.7538922, 'from_address': 'SYSTEM', 'to_address': 'PublicKey(8993475629244475692252001645115247334113814138370429698895486701112445251212179565263699023099556449437735070001447850415541621151716761834442105834745357, 65537)', 'amount': 50}, {'timestamp': 1526715523.6098828, 'from_address': 'PublicKey(6779088420865347337025190093169929350334745195828916387479150784297084062241541533011892062593337345802672309933626561774991534697040447454342497198979759, 65537)', 'to_address': 'PublicKey(9397608228207686851416119375836144832187333820809147174314620827054039818894963967512700055176661523783407929400420568768228793617944314418964042881181231, 65537)', 'amount': 10}] \n",
      "\n",
      "Previous hash is a55643d1268000396bb5226a072d34400eb88bb909d92b6f543a4a4774baa1ef \n",
      "My hash is 44a7bc4f3dd57b11d256ecaaf9f5eb1a011520732d499f76b82264de5114982a\n"
     ]
    }
   ],
   "source": [
    "print(myBlockchain)"
   ]
  },
  {
   "cell_type": "code",
   "execution_count": 24,
   "metadata": {},
   "outputs": [
    {
     "name": "stdout",
     "output_type": "stream",
     "text": [
      "\n",
      "Balance for name arya : PublicKey(6779088420865347337025190093169929350334745195828916387479150784297084062241541533011892062593337345802672309933626561774991534697040447454342497198979759, 65537) is 30\n",
      "\n",
      "Balance for name bran : PublicKey(9397608228207686851416119375836144832187333820809147174314620827054039818894963967512700055176661523783407929400420568768228793617944314418964042881181231, 65537) is 70\n",
      "\n",
      "Balance for name cersei : PublicKey(8993475629244475692252001645115247334113814138370429698895486701112445251212179565263699023099556449437735070001447850415541621151716761834442105834745357, 65537) is 50\n",
      "\n",
      "Balance for name davos : PublicKey(8806604028015046937105724116944729649085270498971643800626621115055769512764243223658948865839679102373985193126127943729974215753549725982642921071535827, 65537) is 0\n",
      "\n",
      "Balance for name elia : PublicKey(9560780786010396545359244183880844619007761318235513913582018185610522077055678077461218342269836573710744611266660404285542179246798658515610932254461169, 65537) is 0\n"
     ]
    }
   ],
   "source": [
    "for name in nameMap:\n",
    "    print(f\"\\nBalance for name {name} : {nameMap.get(name)} is {myBlockchain.getBalance(user=nameMap.get(name))}\")\n"
   ]
  },
  {
   "cell_type": "code",
   "execution_count": 22,
   "metadata": {},
   "outputs": [],
   "source": [
    "myBlockchain.mineBlock(pub_cersei)"
   ]
  },
  {
   "cell_type": "code",
   "execution_count": 21,
   "metadata": {},
   "outputs": [],
   "source": [
    "myBlockchain.mineBlock(pub_davos)"
   ]
  },
  {
   "cell_type": "code",
   "execution_count": 25,
   "metadata": {},
   "outputs": [
    {
     "data": {
      "text/plain": [
       "(True, 0)"
      ]
     },
     "execution_count": 25,
     "metadata": {},
     "output_type": "execute_result"
    }
   ],
   "source": [
    "myBlockchain.validateChain()"
   ]
  },
  {
   "cell_type": "code",
   "execution_count": 19,
   "metadata": {},
   "outputs": [
    {
     "name": "stdout",
     "output_type": "stream",
     "text": [
      "[{'timestamp': 1526715523.6098828, 'from_address': 'PublicKey(6779088420865347337025190093169929350334745195828916387479150784297084062241541533011892062593337345802672309933626561774991534697040447454342497198979759, 65537)', 'to_address': 'PublicKey(9397608228207686851416119375836144832187333820809147174314620827054039818894963967512700055176661523783407929400420568768228793617944314418964042881181231, 65537)', 'amount': 10}]\n"
     ]
    }
   ],
   "source": [
    "print(myBlockchain.pendingTransactions)"
   ]
  }
 ],
 "metadata": {
  "kernelspec": {
   "display_name": "Python 3",
   "language": "python",
   "name": "python3"
  },
  "language_info": {
   "codemirror_mode": {
    "name": "ipython",
    "version": 3
   },
   "file_extension": ".py",
   "mimetype": "text/x-python",
   "name": "python",
   "nbconvert_exporter": "python",
   "pygments_lexer": "ipython3",
   "version": "3.6.4"
  }
 },
 "nbformat": 4,
 "nbformat_minor": 2
}

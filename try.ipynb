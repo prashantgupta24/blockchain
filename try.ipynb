{
 "cells": [
  {
   "cell_type": "code",
   "execution_count": 1,
   "metadata": {},
   "outputs": [],
   "source": [
    "import rsa\n",
    "from core import Blockchain, Transaction, Block"
   ]
  },
  {
   "cell_type": "code",
   "execution_count": 2,
   "metadata": {},
   "outputs": [],
   "source": [
    "[pub_arya, priv_arya]=rsa.newkeys(512)\n",
    "[pub_bran, priv_bran]=rsa.newkeys(512)\n",
    "[pub_cersei, priv_cersei]=rsa.newkeys(512)\n",
    "[pub_davos, priv_davos]=rsa.newkeys(512)\n",
    "[pub_elia, priv_elia]=rsa.newkeys(512)\n",
    "\n",
    "nameMap = {\"arya\":pub_arya, \"bran\":pub_bran, \"cersei\":pub_cersei, \"davos\":pub_davos, \"elia\":pub_elia}"
   ]
  },
  {
   "cell_type": "code",
   "execution_count": 3,
   "metadata": {},
   "outputs": [],
   "source": [
    "myBlockchain = Blockchain()"
   ]
  },
  {
   "cell_type": "code",
   "execution_count": 4,
   "metadata": {},
   "outputs": [],
   "source": [
    "myBlockchain.mineBlock(pub_arya)"
   ]
  },
  {
   "cell_type": "code",
   "execution_count": 14,
   "metadata": {},
   "outputs": [],
   "source": [
    "transaction = Transaction(fromAddress=pub_arya, toAddress=pub_bran, amount=10)\n",
    "signature = rsa.sign(str(transaction).encode(encoding='utf_8'), priv_arya, \"SHA-256\")\n",
    "transaction.addSignature(signature=signature)\n",
    "myBlockchain.addTransaction(transaction=transaction)"
   ]
  },
  {
   "cell_type": "code",
   "execution_count": 17,
   "metadata": {},
   "outputs": [],
   "source": [
    "myBlockchain.mineBlock(pub_bran)"
   ]
  },
  {
   "cell_type": "code",
   "execution_count": 20,
   "metadata": {},
   "outputs": [],
   "source": [
    "myBlockchain.mineBlock(pub_cersei)"
   ]
  },
  {
   "cell_type": "code",
   "execution_count": 22,
   "metadata": {},
   "outputs": [
    {
     "name": "stdout",
     "output_type": "stream",
     "text": [
      "Insufficient balance! You only have 10 coins but you are trying to send 40\n"
     ]
    }
   ],
   "source": [
    "transaction = Transaction(fromAddress=pub_cersei, toAddress=pub_arya, amount=40)\n",
    "signature = rsa.sign(str(transaction).encode(encoding='utf_8'), priv_cersei, \"SHA-256\")\n",
    "transaction.addSignature(signature=signature)\n",
    "myBlockchain.addTransaction(transaction=transaction)"
   ]
  },
  {
   "cell_type": "code",
   "execution_count": 29,
   "metadata": {},
   "outputs": [],
   "source": [
    "transaction = Transaction(fromAddress=pub_bran, toAddress=pub_elia, amount=25)\n",
    "signature = rsa.sign(str(transaction).encode(encoding='utf_8'), priv_bran, \"SHA-256\")\n",
    "transaction.addSignature(signature=signature)\n",
    "myBlockchain.addTransaction(transaction=transaction)"
   ]
  },
  {
   "cell_type": "code",
   "execution_count": 30,
   "metadata": {},
   "outputs": [],
   "source": [
    "myBlockchain.mineBlock(pub_davos)"
   ]
  },
  {
   "cell_type": "code",
   "execution_count": 86,
   "metadata": {},
   "outputs": [
    {
     "name": "stdout",
     "output_type": "stream",
     "text": [
      "Transaction not matching! {'timestamp': 1526840034.896977, 'from_address': 'PublicKey(10253800621053809070486863243078823935553723629200344457376884117162243909420247850068657703014030234534339202520583367987742417758335480448514604692121357, 65537)', 'to_address': 'PublicKey(8856960937644269443771493371723679087628899522036918043964731140499244961297930781784625907103669484066906588945054477659550348975474892866315589691645879, 65537)', 'amount': 150}\n",
      "Chain is not valid! Someone tampered with the data! Issue with block 6. Removing block 6 ...\n",
      "\n",
      "Block which is being removed is:\n",
      "\n",
      "Transactions are [{'timestamp': 1526840067.320529, 'from_address': 'PublicKey(10790323299583208842041254857021429097450689598282600260021942083772473527459833758515562796572406902418324059579943010498657454262730792205410399382930541, 65537)', 'to_address': 'PublicKey(8963435569193623271132450203910106490074107826935903082378784217870915629545742448680072221259942301750027770684498074999767798872144480536863720518606433, 65537)', 'amount': 50}, {'timestamp': 1526840034.896977, 'from_address': 'PublicKey(10253800621053809070486863243078823935553723629200344457376884117162243909420247850068657703014030234534339202520583367987742417758335480448514604692121357, 65537)', 'to_address': 'PublicKey(8856960937644269443771493371723679087628899522036918043964731140499244961297930781784625907103669484066906588945054477659550348975474892866315589691645879, 65537)', 'amount': 150}] \n",
      "\n",
      "Previous hash is 0000c9bfa58728157310eed31483d2663a7fe522c82f01a9eb826e454abbfe2e \n",
      "My hash is 0000a5004a51776c748e442ed7f566fda7e84b7634f87eb23f5dbcff8ef6d4bc\n"
     ]
    }
   ],
   "source": [
    "myBlockchain.mineBlock(pub_elia)"
   ]
  },
  {
   "cell_type": "code",
   "execution_count": 87,
   "metadata": {},
   "outputs": [
    {
     "name": "stdout",
     "output_type": "stream",
     "text": [
      "\n",
      "Block 0\n",
      "\n",
      "Transactions are [] \n",
      "\n",
      "Previous hash is 0 \n",
      "My hash is 000093b497611b1f75064b2bd4374f00ffdb86b74704827336c9bfcce761d324\n",
      "\n",
      "\n",
      "Block 1\n",
      "\n",
      "Transactions are [{'timestamp': 1526838211.6849742, 'from_address': 'PublicKey(10790323299583208842041254857021429097450689598282600260021942083772473527459833758515562796572406902418324059579943010498657454262730792205410399382930541, 65537)', 'to_address': 'PublicKey(10253800621053809070486863243078823935553723629200344457376884117162243909420247850068657703014030234534339202520583367987742417758335480448514604692121357, 65537)', 'amount': 50}] \n",
      "\n",
      "Previous hash is 000093b497611b1f75064b2bd4374f00ffdb86b74704827336c9bfcce761d324 \n",
      "My hash is 00001329009765f90203c181920e19d8cfa39b13f7051c11ba7f5481ff46718c\n",
      "\n",
      "\n",
      "Block 2\n",
      "\n",
      "Transactions are [{'timestamp': 1526838411.033025, 'from_address': 'PublicKey(10790323299583208842041254857021429097450689598282600260021942083772473527459833758515562796572406902418324059579943010498657454262730792205410399382930541, 65537)', 'to_address': 'PublicKey(6889877311734890931780457784801103681672888974254100984396029781470149845088464019055009280067112411923533360516394309270085132816090443093663359724519953, 65537)', 'amount': 50}, {'timestamp': 1526838321.936966, 'from_address': 'PublicKey(10253800621053809070486863243078823935553723629200344457376884117162243909420247850068657703014030234534339202520583367987742417758335480448514604692121357, 65537)', 'to_address': 'PublicKey(6889877311734890931780457784801103681672888974254100984396029781470149845088464019055009280067112411923533360516394309270085132816090443093663359724519953, 65537)', 'amount': 10}, {'timestamp': 1526838386.56598, 'from_address': 'PublicKey(10253800621053809070486863243078823935553723629200344457376884117162243909420247850068657703014030234534339202520583367987742417758335480448514604692121357, 65537)', 'to_address': 'PublicKey(6889877311734890931780457784801103681672888974254100984396029781470149845088464019055009280067112411923533360516394309270085132816090443093663359724519953, 65537)', 'amount': 11}] \n",
      "\n",
      "Previous hash is 00001329009765f90203c181920e19d8cfa39b13f7051c11ba7f5481ff46718c \n",
      "My hash is 00005ae10b30d75dfd12c85d4385dc2679109384b625f932b753cb89aed341e3\n",
      "\n",
      "\n",
      "Block 3\n",
      "\n",
      "Transactions are [{'timestamp': 1526838486.329658, 'from_address': 'PublicKey(10790323299583208842041254857021429097450689598282600260021942083772473527459833758515562796572406902418324059579943010498657454262730792205410399382930541, 65537)', 'to_address': 'PublicKey(9675525379901546225841510594155506978791449427903330332685058458263954455391296654641074077812328135170789481263137454983219795409011147722138095850591843, 65537)', 'amount': 50}] \n",
      "\n",
      "Previous hash is 00005ae10b30d75dfd12c85d4385dc2679109384b625f932b753cb89aed341e3 \n",
      "My hash is 00006d515d86238f5b2a28bd5c76fede88080486ec6e4afaf5521cf2061ed250\n",
      "\n",
      "\n",
      "Block 4\n",
      "\n",
      "Transactions are [{'timestamp': 1526838523.857332, 'from_address': 'PublicKey(10790323299583208842041254857021429097450689598282600260021942083772473527459833758515562796572406902418324059579943010498657454262730792205410399382930541, 65537)', 'to_address': 'PublicKey(8856960937644269443771493371723679087628899522036918043964731140499244961297930781784625907103669484066906588945054477659550348975474892866315589691645879, 65537)', 'amount': 50}, {'timestamp': 1526838486.624507, 'from_address': 'PublicKey(9675525379901546225841510594155506978791449427903330332685058458263954455391296654641074077812328135170789481263137454983219795409011147722138095850591843, 65537)', 'to_address': 'PublicKey(10253800621053809070486863243078823935553723629200344457376884117162243909420247850068657703014030234534339202520583367987742417758335480448514604692121357, 65537)', 'amount': 40}] \n",
      "\n",
      "Previous hash is 00006d515d86238f5b2a28bd5c76fede88080486ec6e4afaf5521cf2061ed250 \n",
      "My hash is 00001905b6fc049b13a43b5a894621ee2bc6e8a4d58ccac35170bf41c795a95a\n",
      "\n",
      "\n",
      "Block 5\n",
      "\n",
      "Transactions are [{'timestamp': 1526838612.805312, 'from_address': 'PublicKey(10790323299583208842041254857021429097450689598282600260021942083772473527459833758515562796572406902418324059579943010498657454262730792205410399382930541, 65537)', 'to_address': 'PublicKey(8856960937644269443771493371723679087628899522036918043964731140499244961297930781784625907103669484066906588945054477659550348975474892866315589691645879, 65537)', 'amount': 50}, {'timestamp': 1526838601.991958, 'from_address': 'PublicKey(6889877311734890931780457784801103681672888974254100984396029781470149845088464019055009280067112411923533360516394309270085132816090443093663359724519953, 65537)', 'to_address': 'PublicKey(8963435569193623271132450203910106490074107826935903082378784217870915629545742448680072221259942301750027770684498074999767798872144480536863720518606433, 65537)', 'amount': 25}] \n",
      "\n",
      "Previous hash is 00001905b6fc049b13a43b5a894621ee2bc6e8a4d58ccac35170bf41c795a95a \n",
      "My hash is 0000c9bfa58728157310eed31483d2663a7fe522c82f01a9eb826e454abbfe2e\n"
     ]
    }
   ],
   "source": [
    "print(myBlockchain)"
   ]
  },
  {
   "cell_type": "code",
   "execution_count": 88,
   "metadata": {},
   "outputs": [
    {
     "name": "stdout",
     "output_type": "stream",
     "text": [
      "\n",
      "Balance for name arya : PublicKey(10253800621053809070486863243078823935553723629200344457376884117162243909420247850068657703014030234534339202520583367987742417758335480448514604692121357, 65537) is 69\n",
      "\n",
      "Balance for name bran : PublicKey(6889877311734890931780457784801103681672888974254100984396029781470149845088464019055009280067112411923533360516394309270085132816090443093663359724519953, 65537) is 46\n",
      "\n",
      "Balance for name cersei : PublicKey(9675525379901546225841510594155506978791449427903330332685058458263954455391296654641074077812328135170789481263137454983219795409011147722138095850591843, 65537) is 10\n",
      "\n",
      "Balance for name davos : PublicKey(8856960937644269443771493371723679087628899522036918043964731140499244961297930781784625907103669484066906588945054477659550348975474892866315589691645879, 65537) is 100\n",
      "\n",
      "Balance for name elia : PublicKey(8963435569193623271132450203910106490074107826935903082378784217870915629545742448680072221259942301750027770684498074999767798872144480536863720518606433, 65537) is 25\n"
     ]
    }
   ],
   "source": [
    "for name in nameMap:\n",
    "    print(f\"\\nBalance for name {name} : {nameMap.get(name)} is {myBlockchain.getBalance(user=nameMap.get(name))}\")\n"
   ]
  },
  {
   "cell_type": "markdown",
   "metadata": {},
   "source": [
    "# Chain info"
   ]
  },
  {
   "cell_type": "code",
   "execution_count": 85,
   "metadata": {},
   "outputs": [
    {
     "name": "stdout",
     "output_type": "stream",
     "text": [
      "Transaction not matching! {'timestamp': 1526840034.896977, 'from_address': 'PublicKey(10253800621053809070486863243078823935553723629200344457376884117162243909420247850068657703014030234534339202520583367987742417758335480448514604692121357, 65537)', 'to_address': 'PublicKey(8856960937644269443771493371723679087628899522036918043964731140499244961297930781784625907103669484066906588945054477659550348975474892866315589691645879, 65537)', 'amount': 150}\n"
     ]
    },
    {
     "data": {
      "text/plain": [
       "(False, 6)"
      ]
     },
     "execution_count": 85,
     "metadata": {},
     "output_type": "execute_result"
    }
   ],
   "source": [
    "myBlockchain.isChainValid()"
   ]
  },
  {
   "cell_type": "code",
   "execution_count": 79,
   "metadata": {},
   "outputs": [
    {
     "name": "stdout",
     "output_type": "stream",
     "text": [
      "[{'timestamp': 1526840034.896977, 'from_address': 'PublicKey(10253800621053809070486863243078823935553723629200344457376884117162243909420247850068657703014030234534339202520583367987742417758335480448514604692121357, 65537)', 'to_address': 'PublicKey(8856960937644269443771493371723679087628899522036918043964731140499244961297930781784625907103669484066906588945054477659550348975474892866315589691645879, 65537)', 'amount': 150}]\n"
     ]
    }
   ],
   "source": [
    "print(myBlockchain.pendingTransactions)"
   ]
  },
  {
   "cell_type": "code",
   "execution_count": 80,
   "metadata": {},
   "outputs": [
    {
     "name": "stdout",
     "output_type": "stream",
     "text": [
      "250\n"
     ]
    }
   ],
   "source": [
    "print(myBlockchain.getBalance(user=nameMap.get(\"davos\")))"
   ]
  },
  {
   "cell_type": "markdown",
   "metadata": {},
   "source": [
    "# Nefarious"
   ]
  },
  {
   "cell_type": "code",
   "execution_count": null,
   "metadata": {},
   "outputs": [],
   "source": [
    "transaction.amount=10"
   ]
  },
  {
   "cell_type": "code",
   "execution_count": 34,
   "metadata": {},
   "outputs": [],
   "source": [
    "myBlockchain.addTransaction(transaction=transaction)"
   ]
  },
  {
   "cell_type": "code",
   "execution_count": null,
   "metadata": {},
   "outputs": [],
   "source": [
    "transactions1 = list(myBlockchain.chain[1].transactions)\n",
    "transaction = transactions1[0]\n",
    "transactions2 = list(myBlockchain.chain[2].transactions)\n",
    "transactions2.append(transaction)\n",
    "myBlockchain.chain[2].transactions = transactions2\n",
    "myBlockchain.chain[2].hashVal = myBlockchain.chain[2].calculateHash()\n",
    "print(list(myBlockchain.chain[2].transactions))"
   ]
  },
  {
   "cell_type": "code",
   "execution_count": null,
   "metadata": {},
   "outputs": [],
   "source": [
    "print(myBlockchain.chain[2])"
   ]
  },
  {
   "cell_type": "code",
   "execution_count": 78,
   "metadata": {},
   "outputs": [],
   "source": [
    "tCopy = Transaction(nameMap.get(\"arya\"), nameMap.get(\"davos\"), 150)\n",
    "#myBlockchain.addTransaction(transaction=tCopy) #this won't work as we have not signed it with private key\n",
    "myBlockchain.pendingTransactions.append(tCopy)"
   ]
  },
  {
   "cell_type": "markdown",
   "metadata": {},
   "source": [
    "# Block nonce testing"
   ]
  },
  {
   "cell_type": "code",
   "execution_count": null,
   "metadata": {},
   "outputs": [],
   "source": [
    "from core import Block, Transaction"
   ]
  },
  {
   "cell_type": "code",
   "execution_count": null,
   "metadata": {},
   "outputs": [],
   "source": [
    "t1 = Transaction(\"a\",\"b\",100)\n",
    "t2 = Transaction(\"b\",\"c\",200)\n",
    "tr = [t1,t2]\n",
    "b = Block(tr, \"12938719hkdsf\", 5)\n",
    "print(b)"
   ]
  },
  {
   "cell_type": "code",
   "execution_count": null,
   "metadata": {},
   "outputs": [],
   "source": []
  }
 ],
 "metadata": {
  "kernelspec": {
   "display_name": "Python 3",
   "language": "python",
   "name": "python3"
  },
  "language_info": {
   "codemirror_mode": {
    "name": "ipython",
    "version": 3
   },
   "file_extension": ".py",
   "mimetype": "text/x-python",
   "name": "python",
   "nbconvert_exporter": "python",
   "pygments_lexer": "ipython3",
   "version": "3.6.4"
  }
 },
 "nbformat": 4,
 "nbformat_minor": 2
}

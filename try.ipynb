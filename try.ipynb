{
 "cells": [
  {
   "cell_type": "code",
   "execution_count": 1,
   "metadata": {},
   "outputs": [],
   "source": [
    "import rsa\n",
    "from core import Blockchain, Transaction"
   ]
  },
  {
   "cell_type": "code",
   "execution_count": 2,
   "metadata": {},
   "outputs": [],
   "source": [
    "[pub_arya, priv_arya]=rsa.newkeys(512)\n",
    "[pub_bran, priv_bran]=rsa.newkeys(512)\n",
    "[pub_cersei, priv_cersei]=rsa.newkeys(512)\n",
    "[pub_davos, priv_davos]=rsa.newkeys(512)\n",
    "[pub_elia, priv_elia]=rsa.newkeys(512)\n",
    "\n",
    "nameMap = {\"arya\":pub_arya, \"bran\":pub_bran, \"cersei\":pub_cersei, \"davos\":pub_davos, \"elia\":pub_elia}"
   ]
  },
  {
   "cell_type": "code",
   "execution_count": 3,
   "metadata": {},
   "outputs": [],
   "source": [
    "myBlockchain = Blockchain()"
   ]
  },
  {
   "cell_type": "code",
   "execution_count": 4,
   "metadata": {},
   "outputs": [],
   "source": [
    "myBlockchain.mineBlock(pub_arya)"
   ]
  },
  {
   "cell_type": "code",
   "execution_count": 5,
   "metadata": {},
   "outputs": [],
   "source": [
    "\n",
    "transaction = Transaction(fromAddress=pub_arya, toAddress=pub_bran, amount=10)\n",
    "signature = rsa.sign(str(transaction).encode(encoding='utf_8'), priv_arya, \"SHA-256\")\n",
    "transaction.addSignature(signature=signature)\n",
    "myBlockchain.addTransaction(transaction=transaction)"
   ]
  },
  {
   "cell_type": "code",
   "execution_count": 31,
   "metadata": {},
   "outputs": [],
   "source": [
    "transaction.amount=10"
   ]
  },
  {
   "cell_type": "code",
   "execution_count": 7,
   "metadata": {},
   "outputs": [],
   "source": [
    "myBlockchain.addTransaction(transaction=transaction)"
   ]
  },
  {
   "cell_type": "code",
   "execution_count": 6,
   "metadata": {},
   "outputs": [],
   "source": [
    "myBlockchain.mineBlock(pub_bran)"
   ]
  },
  {
   "cell_type": "code",
   "execution_count": 51,
   "metadata": {},
   "outputs": [
    {
     "name": "stdout",
     "output_type": "stream",
     "text": [
      "[{'timestamp': 1526709400.41716, 'from_address': 'SYSTEM', 'to_address': 'PublicKey(8915275741360978175563834853264592569576103100862571780939170156374380021037993505329541558596464795317953586714426300638337773151554277899515519484578721, 65537)', 'amount': 50}, {'timestamp': 1526709398.170304, 'from_address': 'PublicKey(12534602798776040486242871727336260425807329769272684498052476009272876793808873103598578630943159308542769457662801614599892907441427999974901114184127297, 65537)', 'to_address': 'PublicKey(8915275741360978175563834853264592569576103100862571780939170156374380021037993505329541558596464795317953586714426300638337773151554277899515519484578721, 65537)', 'amount': 10}, {'timestamp': 1526709395.617329, 'from_address': 'SYSTEM', 'to_address': 'PublicKey(12534602798776040486242871727336260425807329769272684498052476009272876793808873103598578630943159308542769457662801614599892907441427999974901114184127297, 65537)', 'amount': 50}]\n"
     ]
    }
   ],
   "source": [
    "transactions1 = list(myBlockchain.chain[1].transactions)\n",
    "transaction = transactions1[0]\n",
    "transactions2 = list(myBlockchain.chain[2].transactions)\n",
    "transactions2.append(transaction)\n",
    "myBlockchain.chain[2].transactions = transactions2\n",
    "myBlockchain.chain[2].hashVal = myBlockchain.chain[2].calculateHash()\n",
    "print(list(myBlockchain.chain[2].transactions))"
   ]
  },
  {
   "cell_type": "code",
   "execution_count": 52,
   "metadata": {},
   "outputs": [
    {
     "name": "stdout",
     "output_type": "stream",
     "text": [
      "Transactions are [{'timestamp': 1526709400.41716, 'from_address': 'SYSTEM', 'to_address': 'PublicKey(8915275741360978175563834853264592569576103100862571780939170156374380021037993505329541558596464795317953586714426300638337773151554277899515519484578721, 65537)', 'amount': 50}, {'timestamp': 1526709398.170304, 'from_address': 'PublicKey(12534602798776040486242871727336260425807329769272684498052476009272876793808873103598578630943159308542769457662801614599892907441427999974901114184127297, 65537)', 'to_address': 'PublicKey(8915275741360978175563834853264592569576103100862571780939170156374380021037993505329541558596464795317953586714426300638337773151554277899515519484578721, 65537)', 'amount': 10}, {'timestamp': 1526709395.617329, 'from_address': 'SYSTEM', 'to_address': 'PublicKey(12534602798776040486242871727336260425807329769272684498052476009272876793808873103598578630943159308542769457662801614599892907441427999974901114184127297, 65537)', 'amount': 50}] \n",
      "\n",
      "Previous hash is d4be135ea095b21ccf91b82244a3b5ebef81fd45f965a6bfea32a5b544452751 \n",
      "My hash is cbbc884c7d576f31685fbc10571c8b77c69c9013e040d7458afd2ad110496e15\n"
     ]
    }
   ],
   "source": [
    "print(myBlockchain.chain[2])"
   ]
  },
  {
   "cell_type": "code",
   "execution_count": 19,
   "metadata": {},
   "outputs": [
    {
     "name": "stdout",
     "output_type": "stream",
     "text": [
      "\n",
      "Block 0\n",
      "\n",
      "Transactions are [] \n",
      "\n",
      "Previous hash is 0 \n",
      "My hash is d0bca111f8628137adc4c16f123496dcdd1d590d06cb5d9acd68b39fe656fb97\n",
      "\n",
      "\n",
      "Block 1\n",
      "\n",
      "Transactions are [{'timestamp': 1526714843.088585, 'from_address': 'SYSTEM', 'to_address': 'PublicKey(7713120640455561289766737045934170159217498874436953856534890845311112824721677215307200344746562057551340444134795720162856387970477712805122407899140939, 65537)', 'amount': 50}] \n",
      "\n",
      "Previous hash is d0bca111f8628137adc4c16f123496dcdd1d590d06cb5d9acd68b39fe656fb97 \n",
      "My hash is 93812a168086442e401168bb9e8bbacb94188e2f585e696cfe6d0a271c39f435\n",
      "\n",
      "\n",
      "Block 2\n",
      "\n",
      "Transactions are [{'timestamp': 1526714849.3513799, 'from_address': 'SYSTEM', 'to_address': 'PublicKey(8550146550791418699607057332569337059381233165975195510173251592645921887131882019437888566382314093283141876957560137519545086518361529698565914443573863, 65537)', 'amount': 50}, {'timestamp': 1526714843.92005, 'from_address': 'PublicKey(7713120640455561289766737045934170159217498874436953856534890845311112824721677215307200344746562057551340444134795720162856387970477712805122407899140939, 65537)', 'to_address': 'PublicKey(8550146550791418699607057332569337059381233165975195510173251592645921887131882019437888566382314093283141876957560137519545086518361529698565914443573863, 65537)', 'amount': 10}] \n",
      "\n",
      "Previous hash is 93812a168086442e401168bb9e8bbacb94188e2f585e696cfe6d0a271c39f435 \n",
      "My hash is b4c2f36452dfaed377ac5821ed7a1e29ea4900f4fdd3c8102900bb57d126a6b6\n",
      "\n",
      "\n",
      "Block 3\n",
      "\n",
      "Transactions are [{'timestamp': 1526715054.1699939, 'from_address': 'SYSTEM', 'to_address': 'PublicKey(7206128570179227484470038478773804656297417238604056760129641212753149327466656270106907930323430491300507922109553675458687063860844630532756455092568271, 65537)', 'amount': 50}] \n",
      "\n",
      "Previous hash is b4c2f36452dfaed377ac5821ed7a1e29ea4900f4fdd3c8102900bb57d126a6b6 \n",
      "My hash is 8434268ff997c45406a4dd7a6917a869f7603b03d7d4331459cf706a07612709\n"
     ]
    }
   ],
   "source": [
    "print(myBlockchain)"
   ]
  },
  {
   "cell_type": "code",
   "execution_count": 18,
   "metadata": {},
   "outputs": [
    {
     "name": "stdout",
     "output_type": "stream",
     "text": [
      "\n",
      "Balance for name arya : PublicKey(7713120640455561289766737045934170159217498874436953856534890845311112824721677215307200344746562057551340444134795720162856387970477712805122407899140939, 65537) is 40\n",
      "\n",
      "Balance for name bran : PublicKey(8550146550791418699607057332569337059381233165975195510173251592645921887131882019437888566382314093283141876957560137519545086518361529698565914443573863, 65537) is 60\n",
      "\n",
      "Balance for name cersei : PublicKey(7206128570179227484470038478773804656297417238604056760129641212753149327466656270106907930323430491300507922109553675458687063860844630532756455092568271, 65537) is 50\n",
      "\n",
      "Balance for name davos : PublicKey(7760908622043987047851954210463084580609117917546759259547585890450195808940920564750873102758199982815020593439360921645688463989655997951108335324491451, 65537) is 0\n",
      "\n",
      "Balance for name elia : PublicKey(8452745459259107237548450597081694011103750398213740119203465093396513320718472988194895520033916501389685909559273410175805060206019421207073109267141451, 65537) is 0\n"
     ]
    }
   ],
   "source": [
    "for name in nameMap:\n",
    "    print(f\"\\nBalance for name {name} : {nameMap.get(name)} is {myBlockchain.getBalance(user=nameMap.get(name))}\")\n"
   ]
  },
  {
   "cell_type": "code",
   "execution_count": 17,
   "metadata": {},
   "outputs": [],
   "source": [
    "myBlockchain.mineBlock(pub_cersei)"
   ]
  },
  {
   "cell_type": "code",
   "execution_count": 21,
   "metadata": {},
   "outputs": [],
   "source": [
    "myBlockchain.mineBlock(pub_davos)"
   ]
  },
  {
   "cell_type": "code",
   "execution_count": 15,
   "metadata": {},
   "outputs": [
    {
     "data": {
      "text/plain": [
       "(True, 0)"
      ]
     },
     "execution_count": 15,
     "metadata": {},
     "output_type": "execute_result"
    }
   ],
   "source": [
    "myBlockchain.validateChain()"
   ]
  },
  {
   "cell_type": "code",
   "execution_count": 16,
   "metadata": {},
   "outputs": [
    {
     "name": "stdout",
     "output_type": "stream",
     "text": [
      "[]\n"
     ]
    }
   ],
   "source": [
    "print(myBlockchain.pendingTransactions)"
   ]
  }
 ],
 "metadata": {
  "kernelspec": {
   "display_name": "Python 3",
   "language": "python",
   "name": "python3"
  },
  "language_info": {
   "codemirror_mode": {
    "name": "ipython",
    "version": 3
   },
   "file_extension": ".py",
   "mimetype": "text/x-python",
   "name": "python",
   "nbconvert_exporter": "python",
   "pygments_lexer": "ipython3",
   "version": "3.6.4"
  }
 },
 "nbformat": 4,
 "nbformat_minor": 2
}

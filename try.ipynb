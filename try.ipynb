{
 "cells": [
  {
   "cell_type": "code",
   "execution_count": 1,
   "metadata": {},
   "outputs": [],
   "source": [
    "import rsa\n",
    "from core import Blockchain, Transaction, Block"
   ]
  },
  {
   "cell_type": "code",
   "execution_count": 2,
   "metadata": {},
   "outputs": [],
   "source": [
    "[pub_arya, priv_arya]=rsa.newkeys(512)\n",
    "[pub_bran, priv_bran]=rsa.newkeys(512)\n",
    "[pub_cersei, priv_cersei]=rsa.newkeys(512)\n",
    "[pub_davos, priv_davos]=rsa.newkeys(512)\n",
    "[pub_elia, priv_elia]=rsa.newkeys(512)\n",
    "\n",
    "nameMap = {\"arya\":pub_arya, \"bran\":pub_bran, \"cersei\":pub_cersei, \"davos\":pub_davos, \"elia\":pub_elia}"
   ]
  },
  {
   "cell_type": "code",
   "execution_count": 3,
   "metadata": {},
   "outputs": [],
   "source": [
    "myBlockchain = Blockchain()"
   ]
  },
  {
   "cell_type": "code",
   "execution_count": 4,
   "metadata": {},
   "outputs": [],
   "source": [
    "myBlockchain.mineBlock(pub_arya)"
   ]
  },
  {
   "cell_type": "code",
   "execution_count": 5,
   "metadata": {},
   "outputs": [],
   "source": [
    "transaction = Transaction(fromAddress=pub_arya, toAddress=pub_bran, amount=10)\n",
    "signature = rsa.sign(str(transaction).encode(encoding='utf_8'), priv_arya, \"SHA-256\")\n",
    "transaction.addSignature(signature=signature)\n",
    "myBlockchain.addTransaction(transaction=transaction)"
   ]
  },
  {
   "cell_type": "code",
   "execution_count": 6,
   "metadata": {},
   "outputs": [],
   "source": [
    "myBlockchain.mineBlock(pub_bran)"
   ]
  },
  {
   "cell_type": "code",
   "execution_count": 7,
   "metadata": {},
   "outputs": [],
   "source": [
    "myBlockchain.mineBlock(pub_cersei)"
   ]
  },
  {
   "cell_type": "code",
   "execution_count": 8,
   "metadata": {},
   "outputs": [],
   "source": [
    "transaction = Transaction(fromAddress=pub_cersei, toAddress=pub_arya, amount=40)\n",
    "signature = rsa.sign(str(transaction).encode(encoding='utf_8'), priv_cersei, \"SHA-256\")\n",
    "transaction.addSignature(signature=signature)\n",
    "myBlockchain.addTransaction(transaction=transaction)"
   ]
  },
  {
   "cell_type": "code",
   "execution_count": 9,
   "metadata": {},
   "outputs": [],
   "source": [
    "transaction = Transaction(fromAddress=pub_bran, toAddress=pub_elia, amount=25)\n",
    "signature = rsa.sign(str(transaction).encode(encoding='utf_8'), priv_bran, \"SHA-256\")\n",
    "transaction.addSignature(signature=signature)\n",
    "myBlockchain.addTransaction(transaction=transaction)"
   ]
  },
  {
   "cell_type": "code",
   "execution_count": 10,
   "metadata": {},
   "outputs": [],
   "source": [
    "myBlockchain.mineBlock(pub_davos)"
   ]
  },
  {
   "cell_type": "code",
   "execution_count": 11,
   "metadata": {},
   "outputs": [],
   "source": [
    "myBlockchain.mineBlock(pub_elia)"
   ]
  },
  {
   "cell_type": "code",
   "execution_count": 12,
   "metadata": {},
   "outputs": [
    {
     "name": "stdout",
     "output_type": "stream",
     "text": [
      "{\n",
      "  \"lengthOfChain\": 6,\n",
      "  \"Blocks\": {\n",
      "    \"Block 0\": {\n",
      "      \"Transactions\": [],\n",
      "      \"Previous hash\": 0,\n",
      "      \"My hash\": \"000093b497611b1f75064b2bd4374f00ffdb86b74704827336c9bfcce761d324\"\n",
      "    },\n",
      "    \"Block 1\": {\n",
      "      \"Transactions\": [\n",
      "        {\n",
      "          \"Timestamp\": 1526844438.865124,\n",
      "          \"From_address\": \"PublicKey(7652150372954366328882236674043517078930230729551518323862674448265987221001754377776974179778832262868100462582885355661482490511276311495647544596196353, 65537)\",\n",
      "          \"To_address\": \"PublicKey(7202727545917065898205137728531871916359530770961724128788194011832474076786410703016286862594871082127218867761573523352021416923124734147337077671201273, 65537)\",\n",
      "          \"Amount\": 50\n",
      "        }\n",
      "      ],\n",
      "      \"Previous hash\": \"000093b497611b1f75064b2bd4374f00ffdb86b74704827336c9bfcce761d324\",\n",
      "      \"My hash\": \"00005bc6b3f48a4772e5ba1f762f25efa389f7ccede49c6dff713eb50b18d937\"\n",
      "    },\n",
      "    \"Block 2\": {\n",
      "      \"Transactions\": [\n",
      "        {\n",
      "          \"Timestamp\": 1526844443.433612,\n",
      "          \"From_address\": \"PublicKey(7652150372954366328882236674043517078930230729551518323862674448265987221001754377776974179778832262868100462582885355661482490511276311495647544596196353, 65537)\",\n",
      "          \"To_address\": \"PublicKey(7352750681026432618931819822490572748288889180286628466917385224341502194153428188649961303418164081810108579412921556247850921677439720974571351282554533, 65537)\",\n",
      "          \"Amount\": 50\n",
      "        },\n",
      "        {\n",
      "          \"Timestamp\": 1526844440.981003,\n",
      "          \"From_address\": \"PublicKey(7202727545917065898205137728531871916359530770961724128788194011832474076786410703016286862594871082127218867761573523352021416923124734147337077671201273, 65537)\",\n",
      "          \"To_address\": \"PublicKey(7352750681026432618931819822490572748288889180286628466917385224341502194153428188649961303418164081810108579412921556247850921677439720974571351282554533, 65537)\",\n",
      "          \"Amount\": 10\n",
      "        }\n",
      "      ],\n",
      "      \"Previous hash\": \"00005bc6b3f48a4772e5ba1f762f25efa389f7ccede49c6dff713eb50b18d937\",\n",
      "      \"My hash\": \"000096d60c31668f8c7dac2c58e288bcdf549e92cab90b9b286bbdf771cabb61\"\n",
      "    },\n",
      "    \"Block 3\": {\n",
      "      \"Transactions\": [\n",
      "        {\n",
      "          \"Timestamp\": 1526844450.57811,\n",
      "          \"From_address\": \"PublicKey(7652150372954366328882236674043517078930230729551518323862674448265987221001754377776974179778832262868100462582885355661482490511276311495647544596196353, 65537)\",\n",
      "          \"To_address\": \"PublicKey(7635714278667338496660011932518032181171151013099801373829547401347308995416270119754385749676782677839771215740415998513179702308627869187475477920822967, 65537)\",\n",
      "          \"Amount\": 50\n",
      "        }\n",
      "      ],\n",
      "      \"Previous hash\": \"000096d60c31668f8c7dac2c58e288bcdf549e92cab90b9b286bbdf771cabb61\",\n",
      "      \"My hash\": \"0000ab7ff0a995aa57b1487d74217b617bf08ef7d0be3f6f208767099ed18710\"\n",
      "    },\n",
      "    \"Block 4\": {\n",
      "      \"Transactions\": [\n",
      "        {\n",
      "          \"Timestamp\": 1526844453.9516008,\n",
      "          \"From_address\": \"PublicKey(7652150372954366328882236674043517078930230729551518323862674448265987221001754377776974179778832262868100462582885355661482490511276311495647544596196353, 65537)\",\n",
      "          \"To_address\": \"PublicKey(10310981016017911687316865805288005648923070298628749028967579386513342616462584119895114447438786585642619800717767063363239349567790243897604947350690429, 65537)\",\n",
      "          \"Amount\": 50\n",
      "        },\n",
      "        {\n",
      "          \"Timestamp\": 1526844450.6908731,\n",
      "          \"From_address\": \"PublicKey(7635714278667338496660011932518032181171151013099801373829547401347308995416270119754385749676782677839771215740415998513179702308627869187475477920822967, 65537)\",\n",
      "          \"To_address\": \"PublicKey(7202727545917065898205137728531871916359530770961724128788194011832474076786410703016286862594871082127218867761573523352021416923124734147337077671201273, 65537)\",\n",
      "          \"Amount\": 40\n",
      "        },\n",
      "        {\n",
      "          \"Timestamp\": 1526844450.69936,\n",
      "          \"From_address\": \"PublicKey(7352750681026432618931819822490572748288889180286628466917385224341502194153428188649961303418164081810108579412921556247850921677439720974571351282554533, 65537)\",\n",
      "          \"To_address\": \"PublicKey(6922201910144943407239763428690904819564419903931385626883906603029363899319959999119199298085793001215606437915880867560294548747471796510028004051592059, 65537)\",\n",
      "          \"Amount\": 25\n",
      "        }\n",
      "      ],\n",
      "      \"Previous hash\": \"0000ab7ff0a995aa57b1487d74217b617bf08ef7d0be3f6f208767099ed18710\",\n",
      "      \"My hash\": \"000068557cc61f93a3955a230c659f2d367c1036cca75aba2c4a2d32ea25bd18\"\n",
      "    },\n",
      "    \"Block 5\": {\n",
      "      \"Transactions\": [\n",
      "        {\n",
      "          \"Timestamp\": 1526844459.770015,\n",
      "          \"From_address\": \"PublicKey(7652150372954366328882236674043517078930230729551518323862674448265987221001754377776974179778832262868100462582885355661482490511276311495647544596196353, 65537)\",\n",
      "          \"To_address\": \"PublicKey(6922201910144943407239763428690904819564419903931385626883906603029363899319959999119199298085793001215606437915880867560294548747471796510028004051592059, 65537)\",\n",
      "          \"Amount\": 50\n",
      "        }\n",
      "      ],\n",
      "      \"Previous hash\": \"000068557cc61f93a3955a230c659f2d367c1036cca75aba2c4a2d32ea25bd18\",\n",
      "      \"My hash\": \"00000d590455a6b7d44acc02c112e7cbfb6fda1aec1510c92d545f354af6b56e\"\n",
      "    }\n",
      "  }\n",
      "}\n"
     ]
    }
   ],
   "source": [
    "print(myBlockchain)"
   ]
  },
  {
   "cell_type": "code",
   "execution_count": 13,
   "metadata": {},
   "outputs": [
    {
     "name": "stdout",
     "output_type": "stream",
     "text": [
      "\n",
      "Balance for name arya : PublicKey(7202727545917065898205137728531871916359530770961724128788194011832474076786410703016286862594871082127218867761573523352021416923124734147337077671201273, 65537) is 80\n",
      "\n",
      "Balance for name bran : PublicKey(7352750681026432618931819822490572748288889180286628466917385224341502194153428188649961303418164081810108579412921556247850921677439720974571351282554533, 65537) is 35\n",
      "\n",
      "Balance for name cersei : PublicKey(7635714278667338496660011932518032181171151013099801373829547401347308995416270119754385749676782677839771215740415998513179702308627869187475477920822967, 65537) is 10\n",
      "\n",
      "Balance for name davos : PublicKey(10310981016017911687316865805288005648923070298628749028967579386513342616462584119895114447438786585642619800717767063363239349567790243897604947350690429, 65537) is 50\n",
      "\n",
      "Balance for name elia : PublicKey(6922201910144943407239763428690904819564419903931385626883906603029363899319959999119199298085793001215606437915880867560294548747471796510028004051592059, 65537) is 75\n"
     ]
    }
   ],
   "source": [
    "for name in nameMap:\n",
    "    print(f\"\\nBalance for name {name} : {nameMap.get(name)} is {myBlockchain.getBalance(user=nameMap.get(name))}\")\n"
   ]
  },
  {
   "cell_type": "markdown",
   "metadata": {},
   "source": [
    "# Chain info"
   ]
  },
  {
   "cell_type": "code",
   "execution_count": null,
   "metadata": {},
   "outputs": [],
   "source": [
    "myBlockchain.isChainValid()"
   ]
  },
  {
   "cell_type": "code",
   "execution_count": null,
   "metadata": {},
   "outputs": [],
   "source": [
    "print(myBlockchain.pendingTransactions)"
   ]
  },
  {
   "cell_type": "code",
   "execution_count": null,
   "metadata": {},
   "outputs": [],
   "source": [
    "print(myBlockchain.getBalance(user=nameMap.get(\"davos\")))"
   ]
  },
  {
   "cell_type": "markdown",
   "metadata": {},
   "source": [
    "# Nefarious"
   ]
  },
  {
   "cell_type": "code",
   "execution_count": null,
   "metadata": {},
   "outputs": [],
   "source": [
    "transaction.amount=10"
   ]
  },
  {
   "cell_type": "code",
   "execution_count": null,
   "metadata": {},
   "outputs": [],
   "source": [
    "myBlockchain.addTransaction(transaction=transaction)"
   ]
  },
  {
   "cell_type": "code",
   "execution_count": null,
   "metadata": {},
   "outputs": [],
   "source": [
    "transactions1 = list(myBlockchain.chain[1].transactions)\n",
    "transaction = transactions1[0]\n",
    "transactions2 = list(myBlockchain.chain[2].transactions)\n",
    "transactions2.append(transaction)\n",
    "myBlockchain.chain[2].transactions = transactions2\n",
    "myBlockchain.chain[2].hashVal = myBlockchain.chain[2].calculateHash()\n",
    "print(list(myBlockchain.chain[2].transactions))"
   ]
  },
  {
   "cell_type": "code",
   "execution_count": null,
   "metadata": {},
   "outputs": [],
   "source": [
    "print(myBlockchain.chain[2])"
   ]
  },
  {
   "cell_type": "code",
   "execution_count": null,
   "metadata": {},
   "outputs": [],
   "source": [
    "tCopy = Transaction(nameMap.get(\"arya\"), nameMap.get(\"davos\"), 150)\n",
    "#myBlockchain.addTransaction(transaction=tCopy) #this won't work as we have not signed it with private key\n",
    "myBlockchain.pendingTransactions.append(tCopy)"
   ]
  },
  {
   "cell_type": "markdown",
   "metadata": {},
   "source": [
    "# Block nonce testing"
   ]
  },
  {
   "cell_type": "code",
   "execution_count": null,
   "metadata": {},
   "outputs": [],
   "source": [
    "from core import Block, Transaction\n",
    "import json"
   ]
  },
  {
   "cell_type": "code",
   "execution_count": null,
   "metadata": {},
   "outputs": [],
   "source": [
    "t1 = Transaction(\"a\",\"b\",100)\n",
    "t2 = Transaction(\"b\",\"c\",200)\n",
    "tr = [t1,t2]\n",
    "b = Block(tr, \"12938719hkdsf\", 2)\n",
    "print(b.getData())"
   ]
  },
  {
   "cell_type": "code",
   "execution_count": null,
   "metadata": {},
   "outputs": [],
   "source": [
    "# s = {'transactions': [{'timestamp': '1526841250.949912', 'from_address': 'a', 'to_address': 'b', 'amount': '100'}, {'timestamp': '1526841250.949941', 'from_address': 'b', 'to_address': 'c', 'amount': '200'}], 'previous hash': '12938719hkdsf'}\n",
    "# print(type(s))\n",
    "print(b.getData())\n",
    "j = json.dumps(b.getData())\n",
    "print(type(j))\n",
    "print(j)"
   ]
  },
  {
   "cell_type": "markdown",
   "metadata": {},
   "source": [
    "# RSA key testing"
   ]
  },
  {
   "cell_type": "code",
   "execution_count": 1,
   "metadata": {},
   "outputs": [],
   "source": [
    "import rsa\n",
    "from core import Blockchain, Transaction, Block"
   ]
  },
  {
   "cell_type": "code",
   "execution_count": 2,
   "metadata": {},
   "outputs": [],
   "source": [
    "[pub_key, priv_key]=rsa.newkeys(512)"
   ]
  },
  {
   "cell_type": "code",
   "execution_count": 3,
   "metadata": {},
   "outputs": [
    {
     "name": "stdout",
     "output_type": "stream",
     "text": [
      "PublicKey(8078239147246198426290062036045602935071961511267697823981650031894258799284408412476995588000477500451327838583485207537481063252939783530678993649638463, 65537)\n",
      "PrivateKey(8078239147246198426290062036045602935071961511267697823981650031894258799284408412476995588000477500451327838583485207537481063252939783530678993649638463, 65537, 425254818774118201484668416686106018371275267617888482730925929017733384819107133191426813008212199237975222788810425105172795749527826027094894514820273, 4823589805594567183883187366926707229938851383281356164900870092135580291817824699, 1674735927560999437449495340264845757555339531674734869847934034638255437)\n"
     ]
    }
   ],
   "source": [
    "print(pub_key)\n",
    "print(priv_key)"
   ]
  },
  {
   "cell_type": "code",
   "execution_count": 4,
   "metadata": {},
   "outputs": [
    {
     "name": "stdout",
     "output_type": "stream",
     "text": [
      "8078239147246198426290062036045602935071961511267697823981650031894258799284408412476995588000477500451327838583485207537481063252939783530678993649638463, 65537\n",
      "8078239147246198426290062036045602935071961511267697823981650031894258799284408412476995588000477500451327838583485207537481063252939783530678993649638463, 65537, 425254818774118201484668416686106018371275267617888482730925929017733384819107133191426813008212199237975222788810425105172795749527826027094894514820273, 4823589805594567183883187366926707229938851383281356164900870092135580291817824699, 1674735927560999437449495340264845757555339531674734869847934034638255437\n"
     ]
    }
   ],
   "source": [
    "pubFull = str(pub_key)\n",
    "privFull = str(priv_key)\n",
    "pbk = pubFull[pubFull.index(\"(\")+1:pubFull.index(\")\")]\n",
    "print(pbk)\n",
    "pvk = privFull[privFull.index(\"(\")+1:privFull.index(\")\")]\n",
    "print(pvk)"
   ]
  },
  {
   "cell_type": "code",
   "execution_count": 5,
   "metadata": {},
   "outputs": [
    {
     "name": "stdout",
     "output_type": "stream",
     "text": [
      "8078239147246198426290062036045602935071961511267697823981650031894258799284408412476995588000477500451327838583485207537481063252939783530678993649638463\n",
      "65537\n"
     ]
    }
   ],
   "source": [
    "print(pub_key.n)\n",
    "print(pub_key.e)"
   ]
  },
  {
   "cell_type": "code",
   "execution_count": 6,
   "metadata": {},
   "outputs": [
    {
     "name": "stdout",
     "output_type": "stream",
     "text": [
      "8078239147246198426290062036045602935071961511267697823981650031894258799284408412476995588000477500451327838583485207537481063252939783530678993649638463\n",
      "65537\n",
      "425254818774118201484668416686106018371275267617888482730925929017733384819107133191426813008212199237975222788810425105172795749527826027094894514820273\n",
      "4823589805594567183883187366926707229938851383281356164900870092135580291817824699\n",
      "1674735927560999437449495340264845757555339531674734869847934034638255437\n"
     ]
    }
   ],
   "source": [
    "print(priv_key.n)\n",
    "print(priv_key.e)\n",
    "print(priv_key.d)\n",
    "print(priv_key.p)\n",
    "print(priv_key.q)"
   ]
  },
  {
   "cell_type": "code",
   "execution_count": 46,
   "metadata": {},
   "outputs": [],
   "source": [
    "myBlockchain = Blockchain()\n",
    "myBlockchain.mineBlock(\"9158990337550797607105722353943763285262931614697490235817407560986724979042196280173019747861434544976106125615081404434473297124508564803373756622762891, 65537\")"
   ]
  },
  {
   "cell_type": "code",
   "execution_count": 47,
   "metadata": {},
   "outputs": [
    {
     "name": "stdout",
     "output_type": "stream",
     "text": [
      "50\n"
     ]
    }
   ],
   "source": [
    "print(myBlockchain.getBalance(user=\"9158990337550797607105722353943763285262931614697490235817407560986724979042196280173019747861434544976106125615081404434473297124508564803373756622762891, 65537\"))"
   ]
  },
  {
   "cell_type": "code",
   "execution_count": 49,
   "metadata": {},
   "outputs": [
    {
     "name": "stdout",
     "output_type": "stream",
     "text": [
      "PublicKey(9158990337550797607105722353943763285262931614697490235817407560986724979042196280173019747861434544976106125615081404434473297124508564803373756622762891, 65537)\n",
      "0\n"
     ]
    }
   ],
   "source": [
    "print(pub_key)\n",
    "print(myBlockchain.getBalance(user=pub_key))"
   ]
  },
  {
   "cell_type": "code",
   "execution_count": null,
   "metadata": {},
   "outputs": [],
   "source": [
    "transaction = Transaction(fromAddress=\"PublicKey(11313818254180076003910143580899545615642975421518495646315508835016711750994699040560556254142645289743156840883641027743054903329749159381832523883993661, 65537)\", toAddress=\"test\", amount=10)\n",
    "signature = rsa.sign(str(transaction).encode(encoding='utf_8'), priv_key, \"SHA-256\")\n",
    "transaction.addSignature(signature=signature)\n",
    "myBlockchain.addTransaction(transaction=transaction)"
   ]
  }
 ],
 "metadata": {
  "kernelspec": {
   "display_name": "Python 3",
   "language": "python",
   "name": "python3"
  },
  "language_info": {
   "codemirror_mode": {
    "name": "ipython",
    "version": 3
   },
   "file_extension": ".py",
   "mimetype": "text/x-python",
   "name": "python",
   "nbconvert_exporter": "python",
   "pygments_lexer": "ipython3",
   "version": "3.6.4"
  }
 },
 "nbformat": 4,
 "nbformat_minor": 2
}

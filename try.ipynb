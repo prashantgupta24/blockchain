{
 "cells": [
  {
   "cell_type": "code",
   "execution_count": 1,
   "metadata": {},
   "outputs": [],
   "source": [
    "import rsa\n",
    "from core import Blockchain, Transaction, Block"
   ]
  },
  {
   "cell_type": "code",
   "execution_count": 2,
   "metadata": {},
   "outputs": [],
   "source": [
    "[pub_arya, priv_arya]=rsa.newkeys(512)\n",
    "[pub_bran, priv_bran]=rsa.newkeys(512)\n",
    "[pub_cersei, priv_cersei]=rsa.newkeys(512)\n",
    "[pub_davos, priv_davos]=rsa.newkeys(512)\n",
    "[pub_elia, priv_elia]=rsa.newkeys(512)\n",
    "\n",
    "nameMap = {\"arya\":pub_arya, \"bran\":pub_bran, \"cersei\":pub_cersei, \"davos\":pub_davos, \"elia\":pub_elia}"
   ]
  },
  {
   "cell_type": "code",
   "execution_count": 3,
   "metadata": {},
   "outputs": [],
   "source": [
    "myBlockchain = Blockchain()"
   ]
  },
  {
   "cell_type": "code",
   "execution_count": 4,
   "metadata": {},
   "outputs": [],
   "source": [
    "myBlockchain.mineBlock(pub_arya)"
   ]
  },
  {
   "cell_type": "code",
   "execution_count": 5,
   "metadata": {},
   "outputs": [],
   "source": [
    "transaction = Transaction(fromAddress=pub_arya, toAddress=pub_bran, amount=10)\n",
    "signature = rsa.sign(str(transaction).encode(encoding='utf_8'), priv_arya, \"SHA-256\")\n",
    "transaction.addSignature(signature=signature)\n",
    "myBlockchain.addTransaction(transaction=transaction)"
   ]
  },
  {
   "cell_type": "code",
   "execution_count": 6,
   "metadata": {},
   "outputs": [],
   "source": [
    "myBlockchain.mineBlock(pub_bran)"
   ]
  },
  {
   "cell_type": "code",
   "execution_count": 9,
   "metadata": {},
   "outputs": [],
   "source": [
    "myBlockchain.mineBlock(pub_cersei)"
   ]
  },
  {
   "cell_type": "code",
   "execution_count": 18,
   "metadata": {},
   "outputs": [
    {
     "name": "stdout",
     "output_type": "stream",
     "text": [
      "Insufficient balance! You only have 10 coins but you are trying to send 40\n"
     ]
    }
   ],
   "source": [
    "transaction = Transaction(fromAddress=pub_cersei, toAddress=pub_arya, amount=40)\n",
    "signature = rsa.sign(str(transaction).encode(encoding='utf_8'), priv_cersei, \"SHA-256\")\n",
    "transaction.addSignature(signature=signature)\n",
    "myBlockchain.addTransaction(transaction=transaction)"
   ]
  },
  {
   "cell_type": "code",
   "execution_count": 19,
   "metadata": {},
   "outputs": [],
   "source": [
    "transaction = Transaction(fromAddress=pub_bran, toAddress=pub_elia, amount=25)\n",
    "signature = rsa.sign(str(transaction).encode(encoding='utf_8'), priv_bran, \"SHA-256\")\n",
    "transaction.addSignature(signature=signature)\n",
    "myBlockchain.addTransaction(transaction=transaction)"
   ]
  },
  {
   "cell_type": "code",
   "execution_count": 20,
   "metadata": {},
   "outputs": [],
   "source": [
    "myBlockchain.mineBlock(pub_davos)"
   ]
  },
  {
   "cell_type": "code",
   "execution_count": 13,
   "metadata": {},
   "outputs": [],
   "source": [
    "myBlockchain.mineBlock(pub_elia)"
   ]
  },
  {
   "cell_type": "code",
   "execution_count": 21,
   "metadata": {},
   "outputs": [
    {
     "name": "stdout",
     "output_type": "stream",
     "text": [
      "\n",
      "Block 0\n",
      "\n",
      "Transactions are [] \n",
      "\n",
      "Previous hash is 0 \n",
      "My hash is 000093b497611b1f75064b2bd4374f00ffdb86b74704827336c9bfcce761d324\n",
      "\n",
      "\n",
      "Block 1\n",
      "\n",
      "Transactions are [{'timestamp': 1526761431.675088, 'from_address': 'SYSTEM', 'to_address': 'PublicKey(9323134249424039544448938385235738550689283025609449549137951157875006246601379677246246210847401715593557304923664261652203059875635356232907038661994759, 65537)', 'amount': 50}] \n",
      "\n",
      "Previous hash is 000093b497611b1f75064b2bd4374f00ffdb86b74704827336c9bfcce761d324 \n",
      "My hash is 0000591c4e268aee15f2dfcf3b170ba68ee2d4f59f20ed49de63a16008f351d4\n",
      "\n",
      "\n",
      "Block 2\n",
      "\n",
      "Transactions are [{'timestamp': 1526761441.629579, 'from_address': 'SYSTEM', 'to_address': 'PublicKey(6986842253260055209833985526762232885707395664823325654075834770569552475928883625142447356292464679655327598485691617658651786849902616711122629001901667, 65537)', 'amount': 50}, {'timestamp': 1526761433.766164, 'from_address': 'PublicKey(9323134249424039544448938385235738550689283025609449549137951157875006246601379677246246210847401715593557304923664261652203059875635356232907038661994759, 65537)', 'to_address': 'PublicKey(6986842253260055209833985526762232885707395664823325654075834770569552475928883625142447356292464679655327598485691617658651786849902616711122629001901667, 65537)', 'amount': 10}] \n",
      "\n",
      "Previous hash is 0000591c4e268aee15f2dfcf3b170ba68ee2d4f59f20ed49de63a16008f351d4 \n",
      "My hash is 000007ac520a1d43d39fa88dbe7c2ba1fb4259e99331b018d6da1a0286d34446\n",
      "\n",
      "\n",
      "Block 3\n",
      "\n",
      "Transactions are [{'timestamp': 1526761458.100754, 'from_address': 'SYSTEM', 'to_address': 'PublicKey(7877872504203387205760386849338188199130835547532507594291341591337723007563609897713218093527576184310418390856304941454052912605861926148587257149930781, 65537)', 'amount': 50}] \n",
      "\n",
      "Previous hash is 000007ac520a1d43d39fa88dbe7c2ba1fb4259e99331b018d6da1a0286d34446 \n",
      "My hash is 0000a66ffb5f91ebcf1c7258373de72b4a35afc218d9569ead4d2e52e6217b27\n",
      "\n",
      "\n",
      "Block 4\n",
      "\n",
      "Transactions are [{'timestamp': 1526761462.308047, 'from_address': 'SYSTEM', 'to_address': 'PublicKey(6917861279576325897863965021664108982505080958188676566125735807454633184858456380045604300974080122781100503153983124592789245354403129098965997961066499, 65537)', 'amount': 50}, {'timestamp': 1526761458.550753, 'from_address': 'PublicKey(7877872504203387205760386849338188199130835547532507594291341591337723007563609897713218093527576184310418390856304941454052912605861926148587257149930781, 65537)', 'to_address': 'PublicKey(9323134249424039544448938385235738550689283025609449549137951157875006246601379677246246210847401715593557304923664261652203059875635356232907038661994759, 65537)', 'amount': 40}, {'timestamp': 1526761458.5592792, 'from_address': 'PublicKey(6986842253260055209833985526762232885707395664823325654075834770569552475928883625142447356292464679655327598485691617658651786849902616711122629001901667, 65537)', 'to_address': 'PublicKey(9998834622257971940025181803496642817427451942031919992199269852087964760579042263615709329763527449972900290492792134541047941465300681193471698286725689, 65537)', 'amount': 25}] \n",
      "\n",
      "Previous hash is 0000a66ffb5f91ebcf1c7258373de72b4a35afc218d9569ead4d2e52e6217b27 \n",
      "My hash is 0000748d8b2dbc7010be07c001e451f07a08da7e0df8fd06a84828039eec926a\n",
      "\n",
      "\n",
      "Block 5\n",
      "\n",
      "Transactions are [{'timestamp': 1526761466.988224, 'from_address': 'SYSTEM', 'to_address': 'PublicKey(9998834622257971940025181803496642817427451942031919992199269852087964760579042263615709329763527449972900290492792134541047941465300681193471698286725689, 65537)', 'amount': 50}] \n",
      "\n",
      "Previous hash is 0000748d8b2dbc7010be07c001e451f07a08da7e0df8fd06a84828039eec926a \n",
      "My hash is 00004499b038f7a8b8b86140c53493302b1b33584b29b07ca5afa460fea3e8bc\n",
      "\n",
      "\n",
      "Block 6\n",
      "\n",
      "Transactions are [{'timestamp': 1526761839.556572, 'from_address': 'SYSTEM', 'to_address': 'PublicKey(6917861279576325897863965021664108982505080958188676566125735807454633184858456380045604300974080122781100503153983124592789245354403129098965997961066499, 65537)', 'amount': 50}, {'timestamp': 1526761828.081557, 'from_address': 'PublicKey(6986842253260055209833985526762232885707395664823325654075834770569552475928883625142447356292464679655327598485691617658651786849902616711122629001901667, 65537)', 'to_address': 'PublicKey(9998834622257971940025181803496642817427451942031919992199269852087964760579042263615709329763527449972900290492792134541047941465300681193471698286725689, 65537)', 'amount': 25}] \n",
      "\n",
      "Previous hash is 00004499b038f7a8b8b86140c53493302b1b33584b29b07ca5afa460fea3e8bc \n",
      "My hash is 0000175125c86f2d64c7e3a1a7d3c6f13e61ef1177d9871b56478dd09da5dda9\n"
     ]
    }
   ],
   "source": [
    "print(myBlockchain)"
   ]
  },
  {
   "cell_type": "code",
   "execution_count": 22,
   "metadata": {},
   "outputs": [
    {
     "name": "stdout",
     "output_type": "stream",
     "text": [
      "\n",
      "Balance for name arya : PublicKey(9323134249424039544448938385235738550689283025609449549137951157875006246601379677246246210847401715593557304923664261652203059875635356232907038661994759, 65537) is 80\n",
      "\n",
      "Balance for name bran : PublicKey(6986842253260055209833985526762232885707395664823325654075834770569552475928883625142447356292464679655327598485691617658651786849902616711122629001901667, 65537) is 10\n",
      "\n",
      "Balance for name cersei : PublicKey(7877872504203387205760386849338188199130835547532507594291341591337723007563609897713218093527576184310418390856304941454052912605861926148587257149930781, 65537) is 10\n",
      "\n",
      "Balance for name davos : PublicKey(6917861279576325897863965021664108982505080958188676566125735807454633184858456380045604300974080122781100503153983124592789245354403129098965997961066499, 65537) is 100\n",
      "\n",
      "Balance for name elia : PublicKey(9998834622257971940025181803496642817427451942031919992199269852087964760579042263615709329763527449972900290492792134541047941465300681193471698286725689, 65537) is 100\n"
     ]
    }
   ],
   "source": [
    "for name in nameMap:\n",
    "    print(f\"\\nBalance for name {name} : {nameMap.get(name)} is {myBlockchain.getBalance(user=nameMap.get(name))}\")\n"
   ]
  },
  {
   "cell_type": "markdown",
   "metadata": {},
   "source": [
    "# Chain info"
   ]
  },
  {
   "cell_type": "code",
   "execution_count": 16,
   "metadata": {},
   "outputs": [
    {
     "data": {
      "text/plain": [
       "(True, 0)"
      ]
     },
     "execution_count": 16,
     "metadata": {},
     "output_type": "execute_result"
    }
   ],
   "source": [
    "myBlockchain.validateChain()"
   ]
  },
  {
   "cell_type": "code",
   "execution_count": 17,
   "metadata": {},
   "outputs": [
    {
     "name": "stdout",
     "output_type": "stream",
     "text": [
      "[]\n"
     ]
    }
   ],
   "source": [
    "print(myBlockchain.pendingTransactions)"
   ]
  },
  {
   "cell_type": "markdown",
   "metadata": {},
   "source": [
    "# Nefarious"
   ]
  },
  {
   "cell_type": "code",
   "execution_count": null,
   "metadata": {},
   "outputs": [],
   "source": [
    "transaction.amount=10"
   ]
  },
  {
   "cell_type": "code",
   "execution_count": null,
   "metadata": {},
   "outputs": [],
   "source": [
    "myBlockchain.addTransaction(transaction=transaction)"
   ]
  },
  {
   "cell_type": "code",
   "execution_count": null,
   "metadata": {},
   "outputs": [],
   "source": [
    "transactions1 = list(myBlockchain.chain[1].transactions)\n",
    "transaction = transactions1[0]\n",
    "transactions2 = list(myBlockchain.chain[2].transactions)\n",
    "transactions2.append(transaction)\n",
    "myBlockchain.chain[2].transactions = transactions2\n",
    "myBlockchain.chain[2].hashVal = myBlockchain.chain[2].calculateHash()\n",
    "print(list(myBlockchain.chain[2].transactions))"
   ]
  },
  {
   "cell_type": "code",
   "execution_count": null,
   "metadata": {},
   "outputs": [],
   "source": [
    "print(myBlockchain.chain[2])"
   ]
  },
  {
   "cell_type": "markdown",
   "metadata": {},
   "source": [
    "# Block nonce testing"
   ]
  },
  {
   "cell_type": "code",
   "execution_count": null,
   "metadata": {},
   "outputs": [],
   "source": [
    "from core import Block, Transaction"
   ]
  },
  {
   "cell_type": "code",
   "execution_count": null,
   "metadata": {},
   "outputs": [],
   "source": [
    "t1 = Transaction(\"a\",\"b\",100)\n",
    "t2 = Transaction(\"b\",\"c\",200)\n",
    "tr = [t1,t2]\n",
    "b = Block(tr, \"12938719hkdsf\", 5)\n",
    "print(b)"
   ]
  },
  {
   "cell_type": "code",
   "execution_count": null,
   "metadata": {},
   "outputs": [],
   "source": []
  }
 ],
 "metadata": {
  "kernelspec": {
   "display_name": "Python 3",
   "language": "python",
   "name": "python3"
  },
  "language_info": {
   "codemirror_mode": {
    "name": "ipython",
    "version": 3
   },
   "file_extension": ".py",
   "mimetype": "text/x-python",
   "name": "python",
   "nbconvert_exporter": "python",
   "pygments_lexer": "ipython3",
   "version": "3.6.4"
  }
 },
 "nbformat": 4,
 "nbformat_minor": 2
}

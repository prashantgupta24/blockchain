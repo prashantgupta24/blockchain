{
 "cells": [
  {
   "cell_type": "code",
   "execution_count": 1,
   "metadata": {},
   "outputs": [],
   "source": [
    "from core import Blockchain, Transaction"
   ]
  },
  {
   "cell_type": "markdown",
   "metadata": {},
   "source": [
    "### First step, let's create the blockchain object"
   ]
  },
  {
   "cell_type": "code",
   "execution_count": 2,
   "metadata": {},
   "outputs": [],
   "source": [
    "myBlockchain = Blockchain()"
   ]
  },
  {
   "cell_type": "markdown",
   "metadata": {},
   "source": [
    "### Next, let's add a few transactions to the blockchain"
   ]
  },
  {
   "cell_type": "code",
   "execution_count": 3,
   "metadata": {},
   "outputs": [],
   "source": [
    "myBlockchain.addTransaction(Transaction(fromAddress=\"Andrew\", toAddress=\"Brian\", amount=100))\n",
    "myBlockchain.addTransaction(Transaction(fromAddress=\"Brian\", toAddress=\"Andrew\", amount=50))\n",
    "myBlockchain.addTransaction(Transaction(fromAddress=\"Chris\", toAddress=\"Don\", amount=200))\n",
    "myBlockchain.addTransaction(Transaction(fromAddress=\"Don\", toAddress=\"Andrew\", amount=50))"
   ]
  },
  {
   "cell_type": "markdown",
   "metadata": {},
   "source": [
    "### As soon as we mine for a block, all the above transactions are saved onto the new block mined."
   ]
  },
  {
   "cell_type": "code",
   "execution_count": 4,
   "metadata": {},
   "outputs": [],
   "source": [
    "myBlockchain.mineBlock()"
   ]
  },
  {
   "cell_type": "code",
   "execution_count": 5,
   "metadata": {},
   "outputs": [],
   "source": [
    "myBlockchain.addTransaction(Transaction(fromAddress=\"Eli\", toAddress=\"Fisher\", amount=50))\n",
    "myBlockchain.addTransaction(Transaction(fromAddress=\"Fisher\", toAddress=\"Brian\", amount=400))"
   ]
  },
  {
   "cell_type": "markdown",
   "metadata": {},
   "source": [
    "### Mined another block, which adds the above 2 transactions to it"
   ]
  },
  {
   "cell_type": "code",
   "execution_count": 6,
   "metadata": {},
   "outputs": [],
   "source": [
    "myBlockchain.mineBlock()"
   ]
  },
  {
   "cell_type": "markdown",
   "metadata": {},
   "source": [
    "### Let's print out the whole blockchain as of this moment, with each block and transaction."
   ]
  },
  {
   "cell_type": "code",
   "execution_count": 7,
   "metadata": {},
   "outputs": [
    {
     "name": "stdout",
     "output_type": "stream",
     "text": [
      "Block 0\n",
      "\n",
      "Transactions are [] \n",
      "Previous hash is 0 \n",
      "My hash is d0bca111f8628137adc4c16f123496dcdd1d590d06cb5d9acd68b39fe656fb97\n",
      "\n",
      "Block 1\n",
      "\n",
      "Transactions are [From Andrew to Brian, amount:100, From Brian to Andrew, amount:50, From Chris to Don, amount:200, From Don to Andrew, amount:50] \n",
      "Previous hash is d0bca111f8628137adc4c16f123496dcdd1d590d06cb5d9acd68b39fe656fb97 \n",
      "My hash is 8155392a92f82064933a7f02a05c40e880301a403b87e104fff036b3af9e56f9\n",
      "\n",
      "Block 2\n",
      "\n",
      "Transactions are [From Eli to Fisher, amount:50, From Fisher to Brian, amount:400] \n",
      "Previous hash is 8155392a92f82064933a7f02a05c40e880301a403b87e104fff036b3af9e56f9 \n",
      "My hash is 15e6b9cf5d87a0796d716b634c0d97aa48ff59de5808147a177e4f7414c71aba\n"
     ]
    }
   ],
   "source": [
    "print(myBlockchain)"
   ]
  },
  {
   "cell_type": "markdown",
   "metadata": {},
   "source": [
    "### Checks whether the blockchain is valid, it is for now since we have not made any changes to it."
   ]
  },
  {
   "cell_type": "code",
   "execution_count": 8,
   "metadata": {},
   "outputs": [
    {
     "name": "stdout",
     "output_type": "stream",
     "text": [
      "True\n"
     ]
    }
   ],
   "source": [
    "print(myBlockchain.isChainValid())"
   ]
  },
  {
   "cell_type": "markdown",
   "metadata": {},
   "source": [
    "### We can check for Brian's balance, which is correct if you look at all transactions involving Brian\n",
    "\n",
    "```\n",
    "Transaction(fromAddress=\"Andrew\", toAddress=\"Brian\", amount=100)\n",
    "Transaction(fromAddress=\"Brian\", toAddress=\"Andrew\", amount=50)\n",
    "Transaction(fromAddress=\"Fisher\", toAddress=\"Brian\", amount=400)\n",
    "```\n",
    "\n",
    "*Brian's a rich guy!*"
   ]
  },
  {
   "cell_type": "code",
   "execution_count": 9,
   "metadata": {},
   "outputs": [
    {
     "name": "stdout",
     "output_type": "stream",
     "text": [
      "Brian's balance is 450\n"
     ]
    }
   ],
   "source": [
    "print(f\"Brian's balance is {myBlockchain.getBalance(user='Brian')}\")"
   ]
  },
  {
   "cell_type": "markdown",
   "metadata": {},
   "source": [
    "### But here comes Dr. Nefario..."
   ]
  },
  {
   "cell_type": "markdown",
   "metadata": {},
   "source": [
    "### He changes the transaction involving Brian for an amount greater than the original, and being as smart as he is, he re-calculates the hash to trick the blockchain."
   ]
  },
  {
   "cell_type": "code",
   "execution_count": 10,
   "metadata": {},
   "outputs": [
    {
     "name": "stdout",
     "output_type": "stream",
     "text": [
      "hashval for block 1 is now e761676e9aa40f2cecc3b936fa5f516c4d49951c756c3f871e5e47e538e5da69\n",
      "From Andrew to Brian, amount:500\n"
     ]
    }
   ],
   "source": [
    "myBlockchain.chain[1].transactions[0] = Transaction(\"Andrew\", \"Brian\", 500)\n",
    "myBlockchain.chain[1].hashVal = myBlockchain.chain[1].calculateHash()\n",
    "print(f\"hashval for block 1 is now {myBlockchain.chain[1].hashVal}\")\n",
    "print(myBlockchain.chain[1].transactions[0])"
   ]
  },
  {
   "cell_type": "markdown",
   "metadata": {},
   "source": [
    "### But alas! The validation code sniffs out the discrepancy and marks the blockchain invalid! "
   ]
  },
  {
   "cell_type": "code",
   "execution_count": 11,
   "metadata": {},
   "outputs": [
    {
     "name": "stdout",
     "output_type": "stream",
     "text": [
      "False\n"
     ]
    }
   ],
   "source": [
    "print(myBlockchain.isChainValid())"
   ]
  }
 ],
 "metadata": {
  "kernelspec": {
   "display_name": "Python 3",
   "language": "python",
   "name": "python3"
  },
  "language_info": {
   "codemirror_mode": {
    "name": "ipython",
    "version": 3
   },
   "file_extension": ".py",
   "mimetype": "text/x-python",
   "name": "python",
   "nbconvert_exporter": "python",
   "pygments_lexer": "ipython3",
   "version": "3.6.4"
  }
 },
 "nbformat": 4,
 "nbformat_minor": 2
}
